{
 "cells": [
  {
   "cell_type": "code",
   "execution_count": 1,
   "id": "54b5b806",
   "metadata": {},
   "outputs": [],
   "source": [
    "import random\n",
    "import smtplib"
   ]
  },
  {
   "cell_type": "code",
   "execution_count": 2,
   "id": "5348b619",
   "metadata": {},
   "outputs": [],
   "source": [
    "def send_mail():    \n",
    "    # creates SMTP session\n",
    "    s = smtplib.SMTP('smtp.gmail.com', 587)\n",
    "    # start TLS for security\n",
    "    s.starttls()\n",
    "    # Authentication\n",
    "    s.login(\"xxxxxxxxxx@gmail.com\", \"password\") # Specify sender's email id and application password\n",
    "    # message to be sent\n",
    "    message = \"\\nHi there!! :) \\n\\nYour OTP is: \"+str(otp)\n",
    "    # sending the mail\n",
    "    s.sendmail(\"xxxxxxxxxx@gmail.com\", \"yyyyyyyyyy@gmail.com\", message) # Specify sender's and receiver's email addresses\n",
    "    # terminating the session\n",
    "    s.quit()"
   ]
  },
  {
   "cell_type": "code",
   "execution_count": 3,
   "id": "6e0e7ffd",
   "metadata": {},
   "outputs": [],
   "source": [
    "def otp_check(): # Function to prompt the user to enter the OTP received in their email\n",
    "    otp_rec=input(\"Enter the OTP received \")\n",
    "    if otp_rec==str(otp):\n",
    "        print(\"Access Granted\")\n",
    "        global flag\n",
    "        flag=True # To stop otp generation\n",
    "    else:\n",
    "        print(\"Access Denied. OTP is incorrect. Try again\")"
   ]
  },
  {
   "cell_type": "code",
   "execution_count": 4,
   "id": "b4d4c55f",
   "metadata": {},
   "outputs": [
    {
     "name": "stdout",
     "output_type": "stream",
     "text": [
      "Do you want to generate OTP for access? (Y/N)g\n",
      "Incorrect input. Type 'Y' to generate OTP for access or 'N' to not generate OTP\n",
      "Do you want to generate OTP for access? (Y/N)y\n",
      "Kindly check your email for OTP\n",
      "Enter the OTP received 5656\n",
      "Access Denied. OTP is incorrect. Try again\n",
      "Do you want to generate OTP for access? (Y/N)y\n",
      "Kindly check your email for OTP\n",
      "Enter the OTP received 866844\n",
      "Access Granted\n"
     ]
    }
   ],
   "source": [
    "flag=False\n",
    "while flag==False:\n",
    "    generate=input(\"Do you want to generate OTP for access? (Y/N)\")\n",
    "    if generate.upper()=='N':\n",
    "        break\n",
    "    elif generate.upper()=='Y':\n",
    "        print(\"Kindly check your email for OTP\")\n",
    "        otp=random.randint(100000,999999) #Generating the 6 digit otp using randint from random module\n",
    "        send_mail() # Calling function send_mail to send the generated otp\n",
    "        otp_check() # Calling function otp_check to validate the otp\n",
    "    else:\n",
    "        print(\"Incorrect input. Type 'Y' to generate OTP for access or 'N' to not generate OTP\")\n",
    "    "
   ]
  }
 ],
 "metadata": {
  "kernelspec": {
   "display_name": "Python 3 (ipykernel)",
   "language": "python",
   "name": "python3"
  },
  "language_info": {
   "codemirror_mode": {
    "name": "ipython",
    "version": 3
   },
   "file_extension": ".py",
   "mimetype": "text/x-python",
   "name": "python",
   "nbconvert_exporter": "python",
   "pygments_lexer": "ipython3",
   "version": "3.11.5"
  }
 },
 "nbformat": 4,
 "nbformat_minor": 5
}
