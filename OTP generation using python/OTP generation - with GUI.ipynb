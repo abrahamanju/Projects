{
 "cells": [
  {
   "cell_type": "code",
   "execution_count": 1,
   "id": "2ccc65ce",
   "metadata": {},
   "outputs": [],
   "source": [
    "import random\n",
    "import smtplib\n",
    "import PySimpleGUI as sg"
   ]
  },
  {
   "cell_type": "code",
   "execution_count": 5,
   "id": "39ef5865",
   "metadata": {},
   "outputs": [],
   "source": [
    "def send_mail():    \n",
    "    # creates SMTP session\n",
    "    s = smtplib.SMTP('smtp.gmail.com', 587)\n",
    "    # start TLS for security\n",
    "    s.starttls()\n",
    "    # Authentication\n",
    "    s.login(\"xxxxxxxxxx@gmail.com\", \"password\") # Specify sender's email id and application password\n",
    "    # message to be sent\n",
    "    message = \"\\nHi there!! :) \\n\\nYour OTP is: \"+str(otp)\n",
    "    # sending the mail\n",
    "    s.sendmail(\"xxxxxxxxxx@gmail.com\", \"yyyyyyyyyy@gmail.com\", message) # Specify sender's and receiver's email addresses\n",
    "    # terminating the session\n",
    "    s.quit()"
   ]
  },
  {
   "cell_type": "code",
   "execution_count": 6,
   "id": "bb488aed",
   "metadata": {},
   "outputs": [],
   "source": [
    "def otp_check(otp_rec): # Function to prompt the user to enter the OTP received in their email\n",
    "    if otp_rec==str(otp) and otp!=0: # Access should not be granted if otp entered is equal to initialization value\n",
    "        global flag\n",
    "        flag=True\n",
    "        sg.popup_no_titlebar(\"Access Granted. Press OK to continue\")\n",
    "    else:\n",
    "        sg.popup_no_titlebar(\"Access Denied. OTP is incorrect. Try again\")"
   ]
  },
  {
   "cell_type": "code",
   "execution_count": 8,
   "id": "0a9d9724",
   "metadata": {},
   "outputs": [],
   "source": [
    "layout = [[sg.Text(\"Step 1: Click here to generate OTP and send it to your email\"), sg.Button(\"Generate OTP\")],[sg.Text(\"Step 2: Hi!! Kindly enter the OTP received in your email to proceed\"), sg.Input(key='-otp-')], [sg.Text(\"Step 3: Click here to validate OTP for access\"), sg.Button(\"Validate OTP\")]]\n",
    "\n",
    "# Create the window\n",
    "window = sg.Window(\"OTP Verification System\", layout,margins=(50,50))\n",
    "\n",
    "# Initializing the otp value\n",
    "otp=0\n",
    "flag=False # flag is used to exit out of the GUI only if entered otp is correct after validation\n",
    "\n",
    "# Create an event loop\n",
    "while True:\n",
    "   \n",
    "    event, values = window.read()\n",
    "    \n",
    "    # Create and send otp to mail when user clicks 'generate otp' button\n",
    "    if event=='Generate OTP':\n",
    "        otp=random.randint(100000,999999) #Generating the 6 digit otp using randint from random module\n",
    "        send_mail() # Calling function send_mail to send the generated otp\n",
    "        \n",
    "    # End program if user closes window    \n",
    "    elif event == sg.WIN_CLOSED:\n",
    "        break\n",
    "    \n",
    "    # End program if entered otp is correct\n",
    "    elif values['-otp-']!='':\n",
    "        otp_check(values['-otp-']) # Calling function otp_check to validate the otp entered by user\n",
    "        if event == \"Validate OTP\" and flag==True:\n",
    "            break\n",
    "            \n",
    "window.close()"
   ]
  }
 ],
 "metadata": {
  "kernelspec": {
   "display_name": "Python 3 (ipykernel)",
   "language": "python",
   "name": "python3"
  },
  "language_info": {
   "codemirror_mode": {
    "name": "ipython",
    "version": 3
   },
   "file_extension": ".py",
   "mimetype": "text/x-python",
   "name": "python",
   "nbconvert_exporter": "python",
   "pygments_lexer": "ipython3",
   "version": "3.11.5"
  }
 },
 "nbformat": 4,
 "nbformat_minor": 5
}
